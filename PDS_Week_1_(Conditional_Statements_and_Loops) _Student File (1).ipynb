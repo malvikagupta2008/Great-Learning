{
 "cells": [
  {
   "cell_type": "markdown",
   "metadata": {
    "id": "W9hh8peM7G5d"
   },
   "source": [
    "# Introduction to Programming using Python\n",
    "\n",
    "**Using Anaconda Distribution's Jupyter Notebook**\n",
    "\n",
    "## Conditional Statements and Loops"
   ]
  },
  {
   "cell_type": "markdown",
   "metadata": {
    "id": "HU_36CDM7G5h"
   },
   "source": [
    "## Conditional Statements\n",
    "\n",
    "- `IF condtion`\n",
    "- `IF-ELSE condition`\n",
    "- `Nested IF-ELSE condtion`\n",
    "\n",
    "### These statements are used to make decisions based on conditions\n",
    "\n",
    "**Syntax**\n",
    "\n",
    "    if test expression:\n",
    "           statement(s)\n",
    "  \n"
   ]
  },
  {
   "cell_type": "markdown",
   "metadata": {
    "id": "-KohkmSB7G5k"
   },
   "source": [
    "## IF condition"
   ]
  },
  {
   "cell_type": "code",
   "execution_count": null,
   "metadata": {
    "id": "4KZheTAV7G5m",
    "outputId": "6afa699a-0b0f-4925-d4f5-1db9af563f73"
   },
   "outputs": [],
   "source": [
    "#Example\n",
    "x=1\n",
    "if x>0:\n",
    "    print('Hello World')"
   ]
  },
  {
   "cell_type": "code",
   "execution_count": 2,
   "metadata": {
    "id": "DKCS3POk7G51"
   },
   "outputs": [],
   "source": [
    "#Run the exact above code with x=0\n",
    "#Write your code here\n",
    "x=0\n",
    "if x>0:\n",
    "    print('Hello World')"
   ]
  },
  {
   "cell_type": "markdown",
   "metadata": {
    "id": "zR6mr-yH7G6F"
   },
   "source": [
    "## IF-ELSE condition"
   ]
  },
  {
   "cell_type": "code",
   "execution_count": 3,
   "metadata": {
    "id": "sviem2-K7G6H",
    "outputId": "f9c88d3f-bf87-426e-e065-8cb69b80cfb0"
   },
   "outputs": [
    {
     "name": "stdout",
     "output_type": "stream",
     "text": [
      "Hi World\n"
     ]
    }
   ],
   "source": [
    "#Example\n",
    "x=0\n",
    "if x>0:\n",
    "    print('Hello World')\n",
    "else:\n",
    "    print('Hi World')\n"
   ]
  },
  {
   "cell_type": "markdown",
   "metadata": {
    "id": "OJfKM_i77G6T"
   },
   "source": [
    "## Nested IF-ELSE condition"
   ]
  },
  {
   "cell_type": "code",
   "execution_count": 4,
   "metadata": {
    "id": "u83A0Y9E7G6V",
    "outputId": "fab5de0c-07c5-4c3c-89c9-0d0721da5b8e"
   },
   "outputs": [
    {
     "name": "stdout",
     "output_type": "stream",
     "text": [
      "y is greatest\n"
     ]
    }
   ],
   "source": [
    "# Write a code which can identify the largest number from 3 given numbers\n",
    "x=2\n",
    "y=3\n",
    "z=1\n",
    "if x>y:\n",
    "    if x>z:\n",
    "        print('x is greatest')\n",
    "    else:\n",
    "        print('y is greatest')\n",
    "else:\n",
    "    if y>z:\n",
    "        print('y is greatest')\n",
    "    else:\n",
    "        print('z is greatest')\n"
   ]
  },
  {
   "cell_type": "markdown",
   "metadata": {
    "id": "nN8pBEDT7G6f"
   },
   "source": [
    "## Advanced IF-ELSE"
   ]
  },
  {
   "cell_type": "markdown",
   "metadata": {
    "id": "RjYgvaOb7G6h"
   },
   "source": [
    "<img src =\"https://cdn.pixabay.com/photo/2019/04/02/09/27/income-tax-4097292_1280.jpg\" width=50% height =25%></img>\n",
    "\n",
    "<h1 style =\"font-family:Times;color:DarkBlue\"> Ms. George is a CA and is just bored of manually calculating her clients' tax slabs. She asks her daughter's friend, YOU!, yes You , to  help her automate this boring stuff.</h1>\n",
    "\n",
    "<h1 style =\"font-family:Times;color:DarkBlue\"><img src =\" https://cdn.pixabay.com/photo/2018/01/14/23/10/bored-3082829__340.jpg\" width=40% height =25%>\n",
    " Will you help her?</h1></img>"
   ]
  },
  {
   "cell_type": "markdown",
   "metadata": {
    "id": "b55drXmj7G6j"
   },
   "source": [
    ">Taxable income Tax Rate\n",
    "    \n",
    ">Up to Rs. 2,50,000\t            ***Nil***\n",
    "\n",
    ">Rs. 2,50,001 to Rs. 5,00,000\t***5%***\n",
    "\n",
    ">Rs. 5,00,001 to Rs. 7,50,000\t***10%***\n",
    "\n",
    ">Rs. 7,50,001 to Rs. 10,00,000\t***15%***\n",
    "\n",
    ">Rs. 10,00,001 to Rs. 12,50,000\t***20%***\n",
    "\n",
    ">Rs. 12,50,001 to Rs. 15,00,000\t***25%***\n",
    "\n",
    ">Above Rs. 15,00,000\t        ***30%***"
   ]
  },
  {
   "cell_type": "code",
   "execution_count": 5,
   "metadata": {
    "colab": {
     "base_uri": "https://localhost:8080/"
    },
    "id": "RdROthn37G6k",
    "outputId": "5eba0b45-3b71-4d9d-c99a-7383ddb70ece"
   },
   "outputs": [
    {
     "name": "stdout",
     "output_type": "stream",
     "text": [
      "Enter the salary1500000\n",
      "1875000.0\n"
     ]
    }
   ],
   "source": [
    "sal=int(input('Enter the salary'))\n",
    "if sal<=250000:\n",
    "    print('Nil')\n",
    "elif sal>=250001 and sal<=500000:\n",
    "    tax=(5*sal)/100\n",
    "    sal=sal+tax\n",
    "    print(sal)\n",
    "elif sal>=500001 and sal<=750000:\n",
    "    tax=(10*sal)/100\n",
    "    sal=sal+tax\n",
    "    print(sal)\n",
    "elif sal>=750001 and sal<=1000000:\n",
    "    tax=(15*sal)/100\n",
    "    sal=sal+tax\n",
    "    print(sal)\n",
    "elif sal>=1000001 and sal<=1250000:\n",
    "    tax=(20*sal)/100\n",
    "    sal=sal+tax\n",
    "    print(sal)\n",
    "elif sal>=1250001 and sal<=1500000:\n",
    "    tax=(25*sal)/100\n",
    "    sal=sal+tax\n",
    "    print(sal)\n",
    "elif sal>=1500000:\n",
    "    tax=(30*sal)/100\n",
    "    sal=sal+tax\n",
    "    print(sal)"
   ]
  },
  {
   "cell_type": "markdown",
   "metadata": {
    "id": "BNyj0U3h7G7F"
   },
   "source": [
    "# Loops\n",
    "- FOR loop\n",
    "- While loop"
   ]
  },
  {
   "cell_type": "markdown",
   "metadata": {
    "id": "tRNcy9l57G7H"
   },
   "source": [
    "## `for` Loop"
   ]
  },
  {
   "cell_type": "code",
   "execution_count": 6,
   "metadata": {
    "id": "gp7850pl7G7J",
    "outputId": "24549fba-52e3-42e9-fb4c-9c0b7c1478cc"
   },
   "outputs": [
    {
     "name": "stdout",
     "output_type": "stream",
     "text": [
      "1\n",
      "4\n",
      "9\n",
      "16\n",
      "25\n",
      "36\n",
      "49\n",
      "64\n",
      "81\n",
      "100\n"
     ]
    }
   ],
   "source": [
    "#Printing square from 1 to 10\n",
    "for i in range(1,11):\n",
    "    sq=i**2\n",
    "    print(sq)"
   ]
  },
  {
   "cell_type": "markdown",
   "metadata": {
    "id": "B2E9Cdqc7G8S"
   },
   "source": []
  },
  {
   "cell_type": "markdown",
   "metadata": {
    "id": "i_CU4ys87G8U"
   },
   "source": [
    "<h1 style =\"font-family:Times;color:DarkBlue\">Goods and Services Tax or simply GST. When this word comes, the local shopkeepers kind of feel irked because of the complex calculations and confusing guidelines. </h1>\n",
    "\n",
    "\n",
    "<img src =\"https://www.outlookindia.com/outlookmoney/public/uploads/article/gallery/a0bbda7bd6bac8ffd1816c339e5b71d8.jpg\" width=60% height =25%></img>\n",
    "\n",
    "\n",
    "<h1 style =\"font-family:Times;color:DarkBlue\">You gotta use your python skills to help your local shopkeeper calculate the Net Price for his shop's product provided below along with it's respective GST slab.</h1>\n",
    "\n",
    "<img src =\"https://i.imgflip.com/v1ymo.jpg\"></img>\n",
    "\n",
    "\n"
   ]
  },
  {
   "cell_type": "markdown",
   "metadata": {
    "id": "r_kJVwM1syJm"
   },
   "source": [
    "GST Amount = ( Original Cost * GST ) / 100\n",
    "\n",
    "Net Price = Original Cost + GST Amount"
   ]
  },
  {
   "cell_type": "markdown",
   "metadata": {
    "id": "Rh3ZRW79s6R0"
   },
   "source": [
    "#Given\n",
    "\n",
    "Product Cost / GST Slab\n",
    "\n",
    "Product1- 1000 / **18%**\n",
    "\n",
    "Product2- 250 / **18%**\n",
    "\n",
    "Product3- 125 / **5%**\n",
    "\n",
    "Product4- 345 / **18%**\n",
    "\n",
    "Product5- 820 / **12%**\n",
    "\n",
    "Product6- 980 / **5%**\n",
    "\n",
    "Product7- 500 / **12%**\n",
    "\n"
   ]
  },
  {
   "cell_type": "code",
   "execution_count": 12,
   "metadata": {
    "id": "QwnEwszg7G8V"
   },
   "outputs": [
    {
     "name": "stdout",
     "output_type": "stream",
     "text": [
      "enter the original cost250\n",
      "295.0\n"
     ]
    }
   ],
   "source": [
    "cost=int(input(\"enter the original cost\"))\n",
    "if cost==1000 or cost==250 or cost==345:\n",
    "    gst=(cost*18)/100\n",
    "    net=cost+gst\n",
    "    print(net)\n",
    "elif cost==125 or cost==980:\n",
    "    gst=(cost*5)/100\n",
    "    net=cost+gst\n",
    "    print(net)\n",
    "elif cost==820 or cost==500:\n",
    "    gst=(cost*12)/100\n",
    "    net=cost+gst\n",
    "    print(net)"
   ]
  },
  {
   "cell_type": "code",
   "execution_count": null,
   "metadata": {
    "colab": {
     "base_uri": "https://localhost:8080/"
    },
    "id": "gSvqH4X9uPPS",
    "outputId": "71b2463d-f75d-4052-95a8-2d0768e1e7d0"
   },
   "outputs": [],
   "source": []
  },
  {
   "cell_type": "markdown",
   "metadata": {
    "id": "YdkUKJdP7G7Y"
   },
   "source": [
    "## Using IF-ELSE with for Loop"
   ]
  },
  {
   "cell_type": "code",
   "execution_count": 7,
   "metadata": {
    "colab": {
     "base_uri": "https://localhost:8080/"
    },
    "id": "iZVZUDCH7G7b",
    "outputId": "6a56409d-2e9a-43f1-804c-ed3825518f16"
   },
   "outputs": [
    {
     "name": "stdout",
     "output_type": "stream",
     "text": [
      "4\n",
      "16\n",
      "36\n",
      "64\n",
      "100\n",
      "144\n",
      "196\n",
      "256\n",
      "324\n",
      "400\n",
      "484\n",
      "576\n",
      "676\n",
      "784\n",
      "900\n",
      "1024\n",
      "1156\n",
      "1296\n",
      "1444\n",
      "1600\n",
      "1764\n",
      "1936\n",
      "2116\n",
      "2304\n",
      "2500\n",
      "2704\n",
      "2916\n",
      "3136\n",
      "3364\n",
      "3600\n",
      "3844\n",
      "4096\n",
      "4356\n",
      "4624\n",
      "4900\n",
      "5184\n",
      "5476\n",
      "5776\n",
      "6084\n",
      "6400\n",
      "6724\n",
      "7056\n",
      "7396\n",
      "7744\n",
      "8100\n",
      "8464\n",
      "8836\n",
      "9216\n",
      "9604\n",
      "10000\n"
     ]
    }
   ],
   "source": [
    "#Printing squares of even numbers from 1 to 100\n",
    "for i in range(1,101):\n",
    "    if i%2==0:\n",
    "        sq=i**2\n",
    "        print(sq)"
   ]
  },
  {
   "cell_type": "markdown",
   "metadata": {
    "id": "RHmNyrbd7G88"
   },
   "source": [
    "## `while` loop"
   ]
  },
  {
   "cell_type": "code",
   "execution_count": 8,
   "metadata": {
    "id": "hVOvzuVS7G89",
    "outputId": "a555c0b1-2e89-4365-e58b-90edf05d1633"
   },
   "outputs": [
    {
     "name": "stdout",
     "output_type": "stream",
     "text": [
      "1\n",
      "4\n",
      "9\n",
      "16\n",
      "25\n",
      "36\n",
      "49\n",
      "64\n",
      "81\n",
      "100\n"
     ]
    }
   ],
   "source": [
    "#Printing square from 1 to 10\n",
    "i=1\n",
    "while i<=10:\n",
    "    sq=i**2\n",
    "    print(sq)\n",
    "    i+=1"
   ]
  },
  {
   "cell_type": "markdown",
   "metadata": {
    "id": "i0Llq6lz7G9C"
   },
   "source": [
    "## Using IF-ELSE with `while` Loop"
   ]
  },
  {
   "cell_type": "code",
   "execution_count": 1,
   "metadata": {
    "id": "wGtD1cOD7G9D",
    "outputId": "e8480dfd-fcde-4eaa-ffd2-df0fb53a38b2"
   },
   "outputs": [
    {
     "name": "stdout",
     "output_type": "stream",
     "text": [
      "4\n",
      "16\n",
      "36\n",
      "64\n",
      "100\n",
      "144\n",
      "196\n",
      "256\n",
      "324\n",
      "400\n",
      "484\n",
      "576\n",
      "676\n",
      "784\n",
      "900\n",
      "1024\n",
      "1156\n",
      "1296\n",
      "1444\n",
      "1600\n",
      "1764\n",
      "1936\n",
      "2116\n",
      "2304\n",
      "2500\n",
      "2704\n",
      "2916\n",
      "3136\n",
      "3364\n",
      "3600\n",
      "3844\n",
      "4096\n",
      "4356\n",
      "4624\n",
      "4900\n",
      "5184\n",
      "5476\n",
      "5776\n",
      "6084\n",
      "6400\n",
      "6724\n",
      "7056\n",
      "7396\n",
      "7744\n",
      "8100\n",
      "8464\n",
      "8836\n",
      "9216\n",
      "9604\n",
      "10000\n"
     ]
    }
   ],
   "source": [
    "#Printing squares of even numbers from 1 to 100\n",
    "i=1\n",
    "while i<=100:\n",
    "    if i%2==0:\n",
    "        sq=i**2\n",
    "        print(sq)\n",
    "    i+=1\n",
    "    #else:\n",
    "     #   i+=1"
   ]
  },
  {
   "cell_type": "code",
   "execution_count": null,
   "metadata": {},
   "outputs": [],
   "source": []
  }
 ],
 "metadata": {
  "colab": {
   "collapsed_sections": [],
   "name": "PDS Week-1 (Conditional Statements and Loops).ipynb",
   "provenance": []
  },
  "kernelspec": {
   "display_name": "Python 3",
   "language": "python",
   "name": "python3"
  },
  "language_info": {
   "codemirror_mode": {
    "name": "ipython",
    "version": 3
   },
   "file_extension": ".py",
   "mimetype": "text/x-python",
   "name": "python",
   "nbconvert_exporter": "python",
   "pygments_lexer": "ipython3",
   "version": "3.8.3"
  },
  "toc": {
   "base_numbering": 1,
   "nav_menu": {},
   "number_sections": true,
   "sideBar": true,
   "skip_h1_title": false,
   "title_cell": "Table of Contents",
   "title_sidebar": "Contents",
   "toc_cell": false,
   "toc_position": {},
   "toc_section_display": true,
   "toc_window_display": false
  },
  "varInspector": {
   "cols": {
    "lenName": 16,
    "lenType": 16,
    "lenVar": 40
   },
   "kernels_config": {
    "python": {
     "delete_cmd_postfix": "",
     "delete_cmd_prefix": "del ",
     "library": "var_list.py",
     "varRefreshCmd": "print(var_dic_list())"
    },
    "r": {
     "delete_cmd_postfix": ") ",
     "delete_cmd_prefix": "rm(",
     "library": "var_list.r",
     "varRefreshCmd": "cat(var_dic_list()) "
    }
   },
   "types_to_exclude": [
    "module",
    "function",
    "builtin_function_or_method",
    "instance",
    "_Feature"
   ],
   "window_display": false
  }
 },
 "nbformat": 4,
 "nbformat_minor": 1
}
